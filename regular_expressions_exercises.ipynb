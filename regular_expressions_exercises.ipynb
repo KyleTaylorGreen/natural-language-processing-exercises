{
 "cells": [
  {
   "cell_type": "code",
   "execution_count": 1,
   "id": "ffbc2dbd",
   "metadata": {},
   "outputs": [],
   "source": [
    "import pandas as pd\n",
    "import regex as re"
   ]
  },
  {
   "cell_type": "markdown",
   "id": "8641acbb",
   "metadata": {},
   "source": [
    "### Write a function named is_vowel. It should accept a string as input and use a regular expression to determine if the passed string is a vowel. While not explicity mentioned in the lesson, you can treat the result of re.search as a boolean value that indicates whether or not the regular expression matches the given string."
   ]
  },
  {
   "cell_type": "code",
   "execution_count": 188,
   "id": "51648a0d",
   "metadata": {},
   "outputs": [
    {
     "data": {
      "text/plain": [
       "[False, True, True, False]"
      ]
     },
     "execution_count": 188,
     "metadata": {},
     "output_type": "execute_result"
    }
   ],
   "source": [
    "def is_vowel(string):\n",
    "    return [True if re.search(r'[aeiou]', letter) else False for letter in string]\n",
    "\n",
    "letters = 'boop'\n",
    "\n",
    "is_vowel(letters)"
   ]
  },
  {
   "cell_type": "markdown",
   "id": "84781119",
   "metadata": {},
   "source": [
    "### Write a function named is_valid_username that accepts a string as input. A valid username starts with a lowercase letter, and only consists of lowercase letters, numbers, or the _ character. It should also be no longer than 32 characters. The function should return either True or False depending on whether the passed string is a valid username."
   ]
  },
  {
   "cell_type": "code",
   "execution_count": 54,
   "id": "8b0ddced",
   "metadata": {},
   "outputs": [],
   "source": [
    "def is_valid_username(string):\n",
    "    return bool(re.search(r'\\b[a-z][a-z_0-9]{0,31}$', string))\n",
    "     "
   ]
  },
  {
   "cell_type": "code",
   "execution_count": 55,
   "id": "84620a79",
   "metadata": {},
   "outputs": [
    {
     "name": "stdout",
     "output_type": "stream",
     "text": [
      "True\n",
      "False\n",
      "True\n",
      "False\n",
      "True\n",
      "False\n"
     ]
    }
   ],
   "source": [
    "print( is_valid_username('hello'))\n",
    "\n",
    "print(is_valid_username('aaaaaaaaaaaaaaaaaaaaaaaaaaaaaaaaa'))\n",
    "\n",
    "print(is_valid_username('codeup'))\n",
    "\n",
    "\n",
    "print(is_valid_username('Codeup'))\n",
    "\n",
    "print(is_valid_username('codeup123'))\n",
    "print(is_valid_username('1codeup'))"
   ]
  },
  {
   "cell_type": "markdown",
   "id": "c43c6ad7",
   "metadata": {},
   "source": [
    "Write a regular expression to capture phone numbers. It should match all of the following:\n",
    "\n",
    "\n",
    "(210) 867 5309\n",
    "+1 210.867.5309\n",
    "867-5309\n",
    "210-867-5309"
   ]
  },
  {
   "cell_type": "code",
   "execution_count": 68,
   "id": "0de7b3bf",
   "metadata": {},
   "outputs": [
    {
     "name": "stdout",
     "output_type": "stream",
     "text": [
      "True\n",
      "True\n",
      "True\n",
      "True\n"
     ]
    }
   ],
   "source": [
    "def get_phone_numbers(string):\n",
    "    return bool(re.search(r'(\\+1)?\\W?(\\d{3})?(\\W)?(\\d{3})(\\W)?(\\d{4})$', string))\n",
    "\n",
    "numbers = ['(210) 867 5309',\n",
    "'+1 210.867.5309',\n",
    "'867-5309',\n",
    "'210-867-5309']\n",
    "\n",
    "for num in numbers:    \n",
    "    print(get_phone_numbers(num))\n"
   ]
  },
  {
   "cell_type": "markdown",
   "id": "40ed398d",
   "metadata": {},
   "source": [
    "### Use regular expressions to convert the dates below to the standardized year-month-day format.\n",
    "\n",
    "\n",
    "02/04/19\n",
    "02/05/19\n",
    "02/06/19\n",
    "02/07/19\n",
    "02/08/19\n",
    "02/09/19\n",
    "02/10/19"
   ]
  },
  {
   "cell_type": "code",
   "execution_count": 118,
   "id": "1387ebd6",
   "metadata": {},
   "outputs": [
    {
     "data": {
      "text/plain": [
       "'02/04/19  02/05/19  02/06/19  02/07/19  02/08/19 02/09/19  02/10/19'"
      ]
     },
     "execution_count": 118,
     "metadata": {},
     "output_type": "execute_result"
    }
   ],
   "source": [
    "dates = '02/04/19  02/05/19  02/06/19  02/07/19  02/08/19 02/09/19  02/10/19'\n",
    "dates"
   ]
  },
  {
   "cell_type": "code",
   "execution_count": 119,
   "id": "8972d009",
   "metadata": {},
   "outputs": [
    {
     "data": {
      "text/plain": [
       "['19-02-04',\n",
       " '19-02-05',\n",
       " '19-02-06',\n",
       " '19-02-07',\n",
       " '19-02-08',\n",
       " '19-02-09',\n",
       " '19-02-10']"
      ]
     },
     "execution_count": 119,
     "metadata": {},
     "output_type": "execute_result"
    }
   ],
   "source": [
    "def rearrange_dates(dates):\n",
    "    matches = create_matches(dates)\n",
    "    \n",
    "    rearranged = [f'{match[2]}-{match[0]}-{match[1]}' for match in matches]\n",
    "    return rearranged\n",
    "\n",
    "def create_matches(dates):\n",
    "    reg = r'(?P<month>\\d\\d)/?(?P<day>\\d\\d)/?(?P<year>\\d\\d)'\n",
    "    return re.findall(reg, dates)\n",
    "\n",
    "rearrange_dates(dates)    \n",
    "\n"
   ]
  },
  {
   "cell_type": "markdown",
   "id": "880df621",
   "metadata": {},
   "source": [
    "Write a regex to extract the various parts of these logfile lines:"
   ]
  },
  {
   "cell_type": "markdown",
   "id": "536ded1f",
   "metadata": {},
   "source": [
    "* GET /api/v1/sales?page=86 [16/Apr/2019:193452+0000] HTTP/1.1 {200} 510348 \"python-requests/2.21.0\" 97.105.19.58\n",
    "* POST /users_accounts/file-upload [16/Apr/2019:193452+0000] HTTP/1.1 {201} 42 \"User-Agent: Mozilla/5.0 (X11; Fedora; Fedora; Linux x86_64) AppleWebKit/537.36 (KHTML, like Gecko) Chrome/73.0.3683.86 Safari/537.36\" 97.105.19.58\n",
    "* GET /api/v1/items?page=3 [16/Apr/2019:193453+0000] HTTP/1.1 {429} 3561 \"python-requests/2.21.0\" 97.105.19.58"
   ]
  },
  {
   "cell_type": "code",
   "execution_count": 153,
   "id": "ea7f2f2b",
   "metadata": {},
   "outputs": [],
   "source": [
    "logs = ['GET /api/v1/sales?page=86 [16/Apr/2019:193452+0000] HTTP/1.1 {200} 510348 \"python-requests/2.21.0\" 97.105.19.58',\n",
    "'POST /users_accounts/file-upload [16/Apr/2019:193452+0000] HTTP/1.1 {201} 42 \"User-Agent: Mozilla/5.0 (X11; Fedora; Fedora; Linux x86_64) AppleWebKit/537.36 (KHTML, like Gecko) Chrome/73.0.3683.86 Safari/537.36\" 97.105.19.58',\n",
    "'GET /api/v1/items?page=3 [16/Apr/2019:193453+0000] HTTP/1.1 {429} 3561 \"python-requests/2.21.0\" 97.105.19.58']"
   ]
  },
  {
   "cell_type": "code",
   "execution_count": 155,
   "id": "87a088d7",
   "metadata": {},
   "outputs": [
    {
     "name": "stdout",
     "output_type": "stream",
     "text": [
      "method: GET\n",
      "endpoint: /api/v1/sales?page=86\n",
      "date: [16/Apr/2019:193452+0000]\n",
      "protocol: HTTP/1.1\n",
      "status: {200}\n",
      "bytes_transferred: 510348\n",
      "headers: \"python-requests/2.21.0\"\n",
      "ip: 97.105.19.58\n",
      "\n",
      "method: POST\n",
      "endpoint: /users_accounts/file-upload\n",
      "date: [16/Apr/2019:193452+0000]\n",
      "protocol: HTTP/1.1\n",
      "status: {201}\n",
      "bytes_transferred: 42\n",
      "headers: \"User-Agent: Mozilla/5.0 (X11; Fedora; Fedora; Linux x86_64) AppleWebKit/537.36 (KHTML, like Gecko) Chrome/73.0.3683.86 Safari/537.36\"\n",
      "ip: 97.105.19.58\n",
      "\n",
      "method: GET\n",
      "endpoint: /api/v1/items?page=3\n",
      "date: [16/Apr/2019:193453+0000]\n",
      "protocol: HTTP/1.1\n",
      "status: {429}\n",
      "bytes_transferred: 3561\n",
      "headers: \"python-requests/2.21.0\"\n",
      "ip: 97.105.19.58\n",
      "\n"
     ]
    }
   ],
   "source": [
    "exp = r'([A-Z]+) (/\\S+) (\\[\\S+]) (\\w+/\\d.\\d) (\\{.+\\}) (\\d+) (\".*\") (.+)'\n",
    "log_entries = {}\n",
    "i = 0\n",
    "for log in logs:\n",
    "    i+=1\n",
    "    method, endpoint, date, protocol, status, bytes_transferred, headers, ip = re.search(exp, log).groups()\n",
    "    log_entries[f'log{i}'] = {'method': method, 'endpoint': endpoint, 'date': date, 'protocol': protocol, 'status': status,\n",
    "                              'bytes_transferred': bytes_transferred, 'headers': headers, 'ip': ip}\n",
    "\n",
    "for key, values in log_entries.items():\n",
    "    for k, v in values.items():\n",
    "        print(f'{k}: {v}')\n",
    "    print()"
   ]
  },
  {
   "cell_type": "markdown",
   "id": "5562806a",
   "metadata": {},
   "source": [
    "## Bonus"
   ]
  },
  {
   "cell_type": "markdown",
   "id": "b298da5a",
   "metadata": {},
   "source": [
    "Bonus Exercise\n",
    "\n",
    "You can find a list of words on your mac at /usr/share/dict/words. Use this file to answer the following questions:\n",
    "\n",
    "\n",
    "- How many words have at least 3 vowels?\n",
    "- How many words have at least 3 vowels in a row?\n",
    "- How many words have at least 4 consonants in a row?\n",
    "- How many words start and end with the same letter?\n",
    "- How many words start and end with a vowel?\n",
    "- How many words contain the same letter 3 times in a row?\n",
    "- What other interesting patterns in words can you find?\n",
    "\n"
   ]
  },
  {
   "cell_type": "code",
   "execution_count": 158,
   "id": "0b5343b3",
   "metadata": {
    "scrolled": true
   },
   "outputs": [
    {
     "data": {
      "text/html": [
       "<div>\n",
       "<style scoped>\n",
       "    .dataframe tbody tr th:only-of-type {\n",
       "        vertical-align: middle;\n",
       "    }\n",
       "\n",
       "    .dataframe tbody tr th {\n",
       "        vertical-align: top;\n",
       "    }\n",
       "\n",
       "    .dataframe thead th {\n",
       "        text-align: right;\n",
       "    }\n",
       "</style>\n",
       "<table border=\"1\" class=\"dataframe\">\n",
       "  <thead>\n",
       "    <tr style=\"text-align: right;\">\n",
       "      <th></th>\n",
       "      <th>A</th>\n",
       "    </tr>\n",
       "  </thead>\n",
       "  <tbody>\n",
       "    <tr>\n",
       "      <th>0</th>\n",
       "      <td>a</td>\n",
       "    </tr>\n",
       "    <tr>\n",
       "      <th>1</th>\n",
       "      <td>aa</td>\n",
       "    </tr>\n",
       "    <tr>\n",
       "      <th>2</th>\n",
       "      <td>aal</td>\n",
       "    </tr>\n",
       "    <tr>\n",
       "      <th>3</th>\n",
       "      <td>aalii</td>\n",
       "    </tr>\n",
       "    <tr>\n",
       "      <th>4</th>\n",
       "      <td>aam</td>\n",
       "    </tr>\n",
       "  </tbody>\n",
       "</table>\n",
       "</div>"
      ],
      "text/plain": [
       "       A\n",
       "0      a\n",
       "1     aa\n",
       "2    aal\n",
       "3  aalii\n",
       "4    aam"
      ]
     },
     "execution_count": 158,
     "metadata": {},
     "output_type": "execute_result"
    }
   ],
   "source": [
    "df = pd.read_csv('/usr/share/dict/words', keep_default_na=False)\n",
    "df.head()"
   ]
  },
  {
   "cell_type": "code",
   "execution_count": 187,
   "id": "c09377d4",
   "metadata": {},
   "outputs": [],
   "source": [
    "def comprehension(exp, df, ignore_case=True):\n",
    "    if ignore:\n",
    "        return df.A[[True if re.search(exp, word, re.IGNORECASE) else False for word in df.A.values]]\n",
    "    else:\n",
    "        return df.A[[True if re.search(exp, word) else False for word in df.A.values]]\n",
    "\n"
   ]
  },
  {
   "cell_type": "markdown",
   "id": "b2b78baa",
   "metadata": {},
   "source": [
    "**At least 3 vowels?**"
   ]
  },
  {
   "cell_type": "code",
   "execution_count": 174,
   "id": "c53d75fb",
   "metadata": {},
   "outputs": [
    {
     "data": {
      "text/plain": [
       "(191365,)"
      ]
     },
     "execution_count": 174,
     "metadata": {},
     "output_type": "execute_result"
    }
   ],
   "source": [
    "exp = r'(.*[aeiou]){3}'\n",
    "comprehension(exp, df).shape"
   ]
  },
  {
   "cell_type": "markdown",
   "id": "98f0c1be",
   "metadata": {},
   "source": [
    "**At least 3 vowels in a row?**"
   ]
  },
  {
   "cell_type": "code",
   "execution_count": 176,
   "id": "c0539019",
   "metadata": {},
   "outputs": [
    {
     "data": {
      "text/plain": [
       "(6182,)"
      ]
     },
     "execution_count": 176,
     "metadata": {},
     "output_type": "execute_result"
    }
   ],
   "source": [
    "exp = r'[aeiou]{3}'\n",
    "comprehension(exp, df).shape"
   ]
  },
  {
   "cell_type": "markdown",
   "id": "ce48afa0",
   "metadata": {},
   "source": [
    "**At least 4 consanants?**"
   ]
  },
  {
   "cell_type": "code",
   "execution_count": 177,
   "id": "2c52b30f",
   "metadata": {},
   "outputs": [
    {
     "data": {
      "text/plain": [
       "(19241,)"
      ]
     },
     "execution_count": 177,
     "metadata": {},
     "output_type": "execute_result"
    }
   ],
   "source": [
    "exp = r'[^aeiou]{4}'\n",
    "comprehension(exp, df).shape"
   ]
  },
  {
   "cell_type": "markdown",
   "id": "d7bf346c",
   "metadata": {},
   "source": [
    "**Start and end with same letter?**"
   ]
  },
  {
   "cell_type": "code",
   "execution_count": 185,
   "id": "e6143efb",
   "metadata": {},
   "outputs": [
    {
     "data": {
      "text/plain": [
       "(11453,)"
      ]
     },
     "execution_count": 185,
     "metadata": {},
     "output_type": "execute_result"
    }
   ],
   "source": [
    "exp = r'^(\\w).*\\1$'\n",
    "comprehension(exp, df).shape"
   ]
  },
  {
   "cell_type": "markdown",
   "id": "60131689",
   "metadata": {},
   "source": [
    "**Start and end with a vowel?**"
   ]
  },
  {
   "cell_type": "code",
   "execution_count": 180,
   "id": "ce8b03cb",
   "metadata": {},
   "outputs": [
    {
     "data": {
      "text/plain": [
       "(14657,)"
      ]
     },
     "execution_count": 180,
     "metadata": {},
     "output_type": "execute_result"
    }
   ],
   "source": [
    "exp = r'^[aeiou].*[aeiou]$'\n",
    "comprehension(exp, df).shape"
   ]
  },
  {
   "cell_type": "markdown",
   "id": "bfb06719",
   "metadata": {},
   "source": [
    "**Same letter 3 times in a row?**"
   ]
  },
  {
   "cell_type": "code",
   "execution_count": 181,
   "id": "39a686dc",
   "metadata": {},
   "outputs": [
    {
     "data": {
      "text/plain": [
       "(7,)"
      ]
     },
     "execution_count": 181,
     "metadata": {},
     "output_type": "execute_result"
    }
   ],
   "source": [
    "exp = r'(\\w)\\1\\1'\n",
    "comprehension(exp, df).shape"
   ]
  }
 ],
 "metadata": {
  "kernelspec": {
   "display_name": "Python 3 (ipykernel)",
   "language": "python",
   "name": "python3"
  },
  "language_info": {
   "codemirror_mode": {
    "name": "ipython",
    "version": 3
   },
   "file_extension": ".py",
   "mimetype": "text/x-python",
   "name": "python",
   "nbconvert_exporter": "python",
   "pygments_lexer": "ipython3",
   "version": "3.9.7"
  }
 },
 "nbformat": 4,
 "nbformat_minor": 5
}
